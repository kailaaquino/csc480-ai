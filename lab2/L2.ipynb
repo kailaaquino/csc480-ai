{
 "cells": [
  {
   "cell_type": "markdown",
   "id": "3821fcd1",
   "metadata": {},
   "source": [
    "# CSC 480-F25 Lab 2: Task Decomposition, Multi‑Agent Design Patterns, and Communication Protocols"
   ]
  },
  {
   "cell_type": "markdown",
   "id": "9aa52446",
   "metadata": {},
   "source": [
    "# Authors:"
   ]
  },
  {
   "cell_type": "markdown",
   "id": "2dd12fe6",
   "metadata": {},
   "source": [
    "***[Team Member 1], [Team Member 2], [Team Member 3]***\n",
    "\n",
    "California Polytechnic State University, San Luis Obispo;\n",
    "\n",
    "Computer Science & Software Engineering Department"
   ]
  },
  {
   "cell_type": "markdown",
   "id": "45381231",
   "metadata": {},
   "source": [
    "# Overview\n",
    "\n",
    "This lab focuses on:\n",
    "- Breaking down complex problems into smaller tasks (task decomposition)\n",
    "- Defining specialized agents with clear roles and responsibilities  \n",
    "- Choosing appropriate multi-agent design patterns\n",
    "- Specifying communication protocols between agents\n",
    "- Implementing a three-agent system using AutoGen\n",
    "\n",
    "NOTE: If you already know what you're going to do for your final project, you may use this lab to make progress on it. Otherwise, treat this lab as a distinct exercise.\n",
    "\n",
    "## Learning Objectives\n",
    "\n",
    "By the end of this lab, you will be able to:\n",
    "\n",
    "- Decompose a complex problem into a comprehensive set of constituent tasks\n",
    "- Identify and define the roles, responsibilities, and abilities of individual agents\n",
    "- Select and justify an appropriate multi-agent design pattern (Manager‑Worker, Sequential Pipeline, Collaborative Team)\n",
    "- Explain and apply foundational agent communication protocols at a high level (MCP, A2A)\n",
    "- Start thinking about the architecture of your project (agents, tasks, design pattern, and interaction protocols)"
   ]
  },
  {
   "cell_type": "markdown",
   "id": "bcee3e15",
   "metadata": {},
   "source": [
    "# Part 1: Task Decomposition and Agent Design"
   ]
  },
  {
   "cell_type": "markdown",
   "id": "32df675a",
   "metadata": {},
   "source": [
    "## 1. Problem Statement & Task Decomposition\n",
    "\n",
    "**Main Problem:** [Describe the main problem your multi-agent system will solve]\n",
    "\n",
    "**Task Breakdown:** List the steps and sub-tasks needed to achieve the goal:\n",
    "1. [Task 1]\n",
    "2. [Task 2] \n",
    "3. [Task 3]\n",
    "4. [Additional tasks as needed]"
   ]
  },
  {
   "cell_type": "markdown",
   "id": "7e377321",
   "metadata": {},
   "source": [
    "## 2. Agent Definition\n",
    "\n",
    "Define your primary agents with clear roles and responsibilities:\n",
    "\n",
    "### Agent 1: [Agent Name]\n",
    "- **Role:** [Primary role/purpose]\n",
    "- **Responsibilities:** [What this agent is responsible for]\n",
    "- **Inputs:** [What data/information this agent receives]\n",
    "- **Outputs:** [What this agent produces]\n",
    "- **Success Criteria:** [How to measure if this agent succeeded]\n",
    "\n",
    "### Agent 2: [Agent Name] \n",
    "- **Role:** [Primary role/purpose]\n",
    "- **Responsibilities:** [What this agent is responsible for]\n",
    "- **Inputs:** [What data/information this agent receives]\n",
    "- **Outputs:** [What this agent produces]\n",
    "- **Success Criteria:** [How to measure if this agent succeeded]\n",
    "\n",
    "### Agent 3: [Agent Name]\n",
    "- **Role:** [Primary role/purpose] \n",
    "- **Responsibilities:** [What this agent is responsible for]\n",
    "- **Inputs:** [What data/information this agent receives]\n",
    "- **Outputs:** [What this agent produces]\n",
    "- **Success Criteria:** [How to measure if this agent succeeded]"
   ]
  },
  {
   "cell_type": "markdown",
   "id": "b0dbe798",
   "metadata": {},
   "source": [
    "## 3. Design Pattern Selection\n",
    "\n",
    "**Chosen Pattern:** [Manager-Worker / Sequential Pipeline / Collaborative Team]\n",
    "\n",
    "**Justification:** [Explain why this pattern fits your workflow and constraints. Consider factors like task dependencies, parallelization opportunities, coordination complexity, etc.]"
   ]
  },
  {
   "cell_type": "markdown",
   "id": "f16f693a",
   "metadata": {},
   "source": [
    "## 4. Communication Design\n",
    "\n",
    "### Model Context Protocol (MCP)\n",
    "**Shared Context & Tools:** [Describe the shared context and tools all agents need - schemas, access rules, etc.]\n",
    "\n",
    "### Agent-to-Agent (A2A) Interactions\n",
    "\n",
    "#### Interaction 1: [Sender] → [Receiver]\n",
    "- **Purpose:** [What this interaction accomplishes]\n",
    "- **Key Fields:** [Important data/parameters exchanged]\n",
    "- **Message Format:** [Brief description of message structure]\n",
    "\n",
    "#### Interaction 2: [Sender] → [Receiver] \n",
    "- **Purpose:** [What this interaction accomplishes]\n",
    "- **Key Fields:** [Important data/parameters exchanged]\n",
    "- **Message Format:** [Brief description of message structure]"
   ]
  },
  {
   "cell_type": "markdown",
   "id": "d05cf12b",
   "metadata": {},
   "source": [
    "## 5. Interaction Diagram\n",
    "\n",
    "[Create a flowchart or sequence diagram showing agents, your chosen pattern, and MCP/A2A interactions. You can use text-based diagrams, draw by hand and insert an image, or use diagramming tools.]\n",
    "\n",
    "```\n",
    "Example text-based flow:\n",
    "User → Agent1 → Agent2 → Agent3 → User\n",
    "  ↓       ↓       ↓       ↓\n",
    " MCP    A2A     A2A    Final\n",
    "Tool   Msg1    Msg2   Output\n",
    "```"
   ]
  },
  {
   "cell_type": "markdown",
   "id": "fafca2a8",
   "metadata": {},
   "source": [
    "# Part 2: Three-Agent AutoGen Implementation"
   ]
  },
  {
   "cell_type": "markdown",
   "id": "f5441011",
   "metadata": {},
   "source": [
    "## Environment Setup\n",
    "\n",
    "Install required packages and set up Azure OpenAI configuration."
   ]
  },
  {
   "cell_type": "code",
   "execution_count": null,
   "id": "d942804a",
   "metadata": {
    "vscode": {
     "languageId": "shellscript"
    }
   },
   "outputs": [],
   "source": [
    "%pip install \"autogen-core\" \"autogen-agentchat\" \"autogen-ext[openai,azure]\""
   ]
  },
  {
   "cell_type": "code",
   "execution_count": null,
   "id": "091a043e",
   "metadata": {},
   "outputs": [],
   "source": [
    "import os\n",
    "import asyncio\n",
    "from autogen_agentchat.agents import AssistantAgent\n",
    "from autogen_agentchat.teams import RoundRobinGroupChat\n",
    "from autogen_agentchat.ui import Console\n",
    "from autogen_agentchat.conditions import TextMentionTermination\n",
    "from autogen_ext.models.openai import AzureOpenAIChatCompletionClient"
   ]
  },
  {
   "cell_type": "code",
   "execution_count": null,
   "id": "f35c46df",
   "metadata": {},
   "outputs": [],
   "source": [
    "# This is the same as in L1\n",
    "azure_deployment = \"your-deployment-name\"\n",
    "api_version = \"2024-12-01-preview\"  # If you're using gpt-5-mini as demonstrated\n",
    "\n",
    "# e.g. https://ccoha-mfoynknp-eastus2.cognitiveservices.azure.com/\n",
    "azure_endpoint = \"your-azure-endpoint\""
   ]
  },
  {
   "cell_type": "markdown",
   "id": "828eea29",
   "metadata": {},
   "source": [
    "## An Example Three-Agent System Architecture\n",
    "\n",
    "Based on the suggested roles from the overview:\n",
    "- **Planner**: Decomposes the user goal into a concise, ordered plan\n",
    "- **Implementer**: Executes the steps from the plan\n",
    "- **Critic/Integrator**: Reviews output and suggests improvements or approves completion"
   ]
  },
  {
   "cell_type": "code",
   "execution_count": null,
   "id": "2ecda900",
   "metadata": {},
   "outputs": [],
   "source": [
    "async def setup_three_agent_system():\n",
    "    \"\"\"Set up the three-agent system with Planner, Implementer, and Critic roles\"\"\"\n",
    "    \n",
    "    # Create the Azure OpenAI client\n",
    "    client = AzureOpenAIChatCompletionClient(\n",
    "        azure_deployment=azure_deployment,\n",
    "        model=\"gpt-5-mini\",\n",
    "        api_version=api_version,\n",
    "        azure_endpoint=azure_endpoint,\n",
    "        api_key=os.getenv(\"AZURE_SUBSCRIPTION_KEY\"),\n",
    "    )\n",
    "    \n",
    "    # Define the three agents with specific system prompts\n",
    "    planner = AssistantAgent(\n",
    "        name=\"Planner\",\n",
    "        model_client=client,\n",
    "        system_message=\"\"\"You are a task decomposition specialist. Your role is to:\n",
    "        1. Break down complex user goals into clear, numbered steps\n",
    "        2. Define specific inputs/outputs for each step  \n",
    "        3. Provide testable acceptance criteria for each step\n",
    "        4. Present plans in a structured, actionable format\n",
    "        \n",
    "        Always end your response with 'PLAN_COMPLETE' when finished.\"\"\"\n",
    "    )\n",
    "    \n",
    "    implementer = AssistantAgent(\n",
    "        name=\"Implementer\", \n",
    "        model_client=client,\n",
    "        system_message=\"\"\"You are an implementation specialist. Your role is to:\n",
    "        1. Follow the Planner's steps methodically\n",
    "        2. Address each step with concrete outputs/artifacts\n",
    "        3. Provide detailed solutions that meet the specified criteria\n",
    "        4. Ask for clarification if any step is unclear\n",
    "        \n",
    "        Always end your response with 'IMPLEMENTATION_COMPLETE' when finished.\"\"\"\n",
    "    )\n",
    "    \n",
    "    critic = AssistantAgent(\n",
    "        name=\"Critic\",\n",
    "        model_client=client, \n",
    "        system_message=\"\"\"You are a quality assurance specialist. Your role is to:\n",
    "        1. Review the Implementer's work against the Planner's criteria\n",
    "        2. Identify gaps, errors, or missing elements\n",
    "        3. Suggest specific improvements if needed\n",
    "        4. Only approve with 'APPROVED' if all criteria are fully met\n",
    "        \n",
    "        Be thorough but constructive in your feedback.\"\"\"\n",
    "    )\n",
    "    \n",
    "    return planner, implementer, critic"
   ]
  },
  {
   "cell_type": "code",
   "execution_count": null,
   "id": "f533533a",
   "metadata": {},
   "outputs": [],
   "source": [
    "async def run_three_agent_workflow(task_description):\n",
    "    \"\"\"Run the three-agent workflow for a given task\"\"\"\n",
    "\n",
    "    # Set up the agents\n",
    "    planner, implementer, critic = await setup_three_agent_system()\n",
    "\n",
    "    # Create termination condition - look for \"APPROVED\" in messages\n",
    "    # See https://microsoft.github.io/autogen/stable//reference/python/autogen_agentchat.base.html#autogen_agentchat.base.TerminationCondition\n",
    "    termination = TextMentionTermination(\"APPROVED\")\n",
    "\n",
    "    # Create a group chat with the three agents\n",
    "    # The RoundRobinGroupChat will manage turn-taking between agents\n",
    "    # See https://microsoft.github.io/autogen/stable//reference/python/autogen_agentchat.teams.html#autogen_agentchat.teams.RoundRobinGroupChat\n",
    "    team = RoundRobinGroupChat([planner, implementer, critic], termination_condition=termination)\n",
    "\n",
    "    # Run the workflow\n",
    "    print(\"Starting three-agent workflow...\")\n",
    "    print(\"=\" * 60)\n",
    "\n",
    "    # Start the conversation\n",
    "    result = await Console(\n",
    "        team.run_stream(task=task_description)\n",
    "    )\n",
    "\n",
    "    return result"
   ]
  },
  {
   "cell_type": "markdown",
   "id": "6d7b8527",
   "metadata": {},
   "source": [
    "## Example Task 1: Analytical Task\n",
    "\n",
    "Test the three-agent system with a small example analytical task."
   ]
  },
  {
   "cell_type": "code",
   "execution_count": null,
   "id": "1b682496",
   "metadata": {},
   "outputs": [],
   "source": [
    "# Test Task 1: Compare sorting algorithms\n",
    "analytical_task = \"\"\"\n",
    "Compare the pros and cons of Quick Sort vs Merge Sort algorithms. \n",
    "Provide a structured analysis that includes:\n",
    "- Time and space complexity for both\n",
    "- Best/worst case scenarios  \n",
    "- Practical use cases for each\n",
    "- A final recommendation with justification\n",
    "\"\"\"\n",
    "\n",
    "# Uncomment to run when ready:\n",
    "# await run_three_agent_workflow(analytical_task)"
   ]
  },
  {
   "cell_type": "markdown",
   "id": "c91733be",
   "metadata": {},
   "source": [
    "## Example Task 2: Creative Task\n",
    "\n",
    "Test the three-agent system with a creative writing task."
   ]
  },
  {
   "cell_type": "code",
   "execution_count": null,
   "id": "c590ae33",
   "metadata": {},
   "outputs": [],
   "source": [
    "# Test Task 2: Creative writing with constraints  \n",
    "creative_task = \"\"\"\n",
    "Write a 150-word summary of the benefits of renewable energy that:\n",
    "- Uses exactly 3 specific statistics or data points\n",
    "- Includes at least 2 types of renewable energy sources\n",
    "- Has a compelling call-to-action in the final sentence\n",
    "- Maintains an optimistic but factual tone throughout\n",
    "\"\"\"\n",
    "\n",
    "# Uncomment to run when ready:\n",
    "# await run_three_agent_workflow(creative_task)"
   ]
  },
  {
   "cell_type": "markdown",
   "id": "8936c2ad",
   "metadata": {},
   "source": [
    "## Your Task\n",
    "\n",
    "Write your own task for the planner-implementer-critic system"
   ]
  },
  {
   "cell_type": "code",
   "execution_count": null,
   "id": "9b169165",
   "metadata": {},
   "outputs": [],
   "source": [
    "your_task = \"\"\"\n",
    "Your task description here.\n",
    "\"\"\"\n",
    "# Uncomment to run when ready:\n",
    "# await run_three_agent_workflow(your_task)"
   ]
  },
  {
   "cell_type": "markdown",
   "id": "585276ff",
   "metadata": {},
   "source": [
    "NOTE: You'll notice that the output might contain duplicated text, that is because `Console` prints when a text message is sent and received."
   ]
  },
  {
   "cell_type": "markdown",
   "id": "5c754fc1",
   "metadata": {},
   "source": [
    "## Reflection & Analysis"
   ]
  },
  {
   "cell_type": "markdown",
   "id": "1b0c367d",
   "metadata": {},
   "source": [
    "### What worked well?\n",
    "[Reflect on where the three-agent pattern performed effectively]\n",
    "\n",
    "### What struggled?\n",
    "[Note areas where the pattern faced challenges or limitations]\n",
    "\n",
    "### Potential improvements:\n",
    "[Consider what changes could make the system more effective]\n",
    "\n",
    "### Tool integration:\n",
    "[Optional: Discuss how adding tools (like a calculator function) might improve the system]"
   ]
  },
  {
   "cell_type": "markdown",
   "id": "1e73e4ca",
   "metadata": {},
   "source": [
    "# Optional Extensions"
   ]
  },
  {
   "cell_type": "markdown",
   "id": "5b499103",
   "metadata": {},
   "source": [
    "## Adding Tools (Optional Challenge)\n",
    "\n",
    "Consider adding a simple tool function that agents can use, such as a calculator or text analyzer."
   ]
  },
  {
   "cell_type": "code",
   "execution_count": null,
   "id": "41cd589f",
   "metadata": {},
   "outputs": [],
   "source": [
    "# Example tool function (uncomment and modify as needed)\n",
    "# def calculator(expression: str) -> float:\n",
    "#     \"\"\"Simple calculator tool for basic mathematical operations\"\"\"\n",
    "#     try:\n",
    "#         # WARNING: eval() should not be used in production - use a proper math parser\n",
    "#         result = eval(expression)\n",
    "#         return result\n",
    "#     except Exception as e:\n",
    "#         return f\"Error: {str(e)}\"\n",
    "\n",
    "# To integrate tools with AutoGen agents, you would typically:\n",
    "# 1. Define tool schemas following MCP-like patterns\n",
    "# 2. Register tools with specific agents  \n",
    "# 3. Update system prompts to mention available tools\n",
    "# 4. Handle tool calls in the conversation flow"
   ]
  },
  {
   "cell_type": "markdown",
   "id": "16c34af6",
   "metadata": {},
   "source": [
    "# Summary and Next Steps"
   ]
  },
  {
   "cell_type": "markdown",
   "id": "5a827637",
   "metadata": {},
   "source": [
    "## Key Takeaways\n",
    "\n",
    "- **Task Decomposition**: [Your insights about breaking down complex problems]\n",
    "- **Agent Design**: [What you learned about defining agent roles and responsibilities]  \n",
    "- **Communication Protocols**: [Understanding of MCP and A2A interactions]\n",
    "\n",
    "## References\n",
    "\n",
    "- [AutoGen Documentation](https://microsoft.github.io/autogen/stable/index.html)\n",
    "- [Model Context Protocol](https://modelcontextprotocol.io/docs/getting-started/intro)\n",
    "- [Agent-to-Agent Protocol](https://a2a-protocol.org/latest/)\n",
    "- L2_overview.md (Lab requirements and detailed explanations)"
   ]
  }
 ],
 "metadata": {
  "kernelspec": {
   "display_name": "Python 3",
   "language": "python",
   "name": "python3"
  },
  "language_info": {
   "codemirror_mode": {
    "name": "ipython",
    "version": 3
   },
   "file_extension": ".py",
   "mimetype": "text/x-python",
   "name": "python",
   "nbconvert_exporter": "python",
   "pygments_lexer": "ipython3",
   "version": "3.10.18"
  }
 },
 "nbformat": 4,
 "nbformat_minor": 5
}
